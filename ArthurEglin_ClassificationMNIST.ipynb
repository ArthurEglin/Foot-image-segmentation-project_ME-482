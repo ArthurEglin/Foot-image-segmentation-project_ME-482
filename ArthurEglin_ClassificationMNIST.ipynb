{
 "cells": [
  {
   "attachments": {},
   "cell_type": "markdown",
   "metadata": {},
   "source": [
    "# Environment settings"
   ]
  },
  {
   "attachments": {},
   "cell_type": "markdown",
   "metadata": {},
   "source": [
    "### Libraries import"
   ]
  },
  {
   "cell_type": "code",
   "execution_count": 70,
   "metadata": {},
   "outputs": [],
   "source": [
    "import torch, torchvision\n",
    "\n",
    "from torch import nn\n",
    "\n",
    "# Optimizer\n",
    "from torch import optim\n",
    "\n",
    "# Image transformation\n",
    "from torchvision.transforms import ToTensor\n",
    "\n",
    "import torch.nn.functional as funct\n",
    "\n",
    "import matplotlib.pyplot as plt\n",
    "\n",
    "import copy\n",
    "\n",
    "from sklearn.metrics import confusion_matrix\n",
    "import pandas as pd\n",
    "import numpy as np\n",
    "\n",
    "import requests\n",
    "from PIL import Image\n",
    "from io import BytesIO\n",
    "\n",
    "import tabulate"
   ]
  },
  {
   "attachments": {},
   "cell_type": "markdown",
   "metadata": {},
   "source": [
    "### General parameters definition"
   ]
  },
  {
   "cell_type": "code",
   "execution_count": 7,
   "metadata": {},
   "outputs": [],
   "source": [
    "NUM_BATCH = 64"
   ]
  },
  {
   "attachments": {},
   "cell_type": "markdown",
   "metadata": {},
   "source": [
    "### Data import"
   ]
  },
  {
   "cell_type": "code",
   "execution_count": 8,
   "metadata": {},
   "outputs": [],
   "source": [
    "# set up a transformation function to transform the data. Useful for complex transformation pipelines.\n",
    "T = torchvision.transforms.Compose([torchvision.transforms.ToTensor()])\n",
    "\n",
    "# import data\n",
    "train_data = torchvision.datasets.MNIST('mnist_data', train=True, download=True, transform=T)\n",
    "validation_data = torchvision.datasets.MNIST('mnist_data', train=False, download=True, transform=T)\n",
    "\n",
    "# set a train data loader\n",
    "train_data_loader = torch.utils.data.DataLoader(train_data, batch_size=NUM_BATCH)\n",
    "validation_data_loader = torch.utils.data.DataLoader(validation_data, batch_size=NUM_BATCH)"
   ]
  },
  {
   "cell_type": "code",
   "execution_count": 9,
   "metadata": {},
   "outputs": [
    {
     "name": "stdout",
     "output_type": "stream",
     "text": [
      "60000\n",
      "2\n",
      "1\n",
      "28\n",
      "28\n"
     ]
    }
   ],
   "source": [
    "print(len(train_data)) # number of images\n",
    "print(len(train_data[0])) # X=image, y=correct_annotation\n",
    "print(len(train_data[0][0]))\n",
    "print(len(train_data[0][0][0])) # number of Pixels x-axis\n",
    "print(len(train_data[0][0][0][0])) # number of Pixels y-axis"
   ]
  },
  {
   "attachments": {},
   "cell_type": "markdown",
   "metadata": {},
   "source": [
    "Draw a sample image"
   ]
  },
  {
   "cell_type": "code",
   "execution_count": 10,
   "metadata": {},
   "outputs": [
    {
     "data": {
      "image/png": "[encoded data removed]",
      "text/plain": [
       "<Figure size 1200x800 with 5 Axes>"
      ]
     },
     "metadata": {},
     "output_type": "display_data"
    }
   ],
   "source": [
    "# create figure\n",
    "fig = plt.figure(figsize=(12, 8))\n",
    "\n",
    "# add suplots and show images\n",
    "for i in range(5):\n",
    "    fig.add_subplot(1, 5, i+1)\n",
    "    # plot the image from the training dataset\n",
    "    plt.imshow(train_data[i][0][0], cmap=\"gray\")\n",
    "    # plot the corresponding title from the training dataset\n",
    "    plt.title(\"Image of a {}\".format(train_data[i][1]))\n",
    "\n",
    "plt.show()\n",
    "\n"
   ]
  },
  {
   "attachments": {},
   "cell_type": "markdown",
   "metadata": {},
   "source": [
    "# Model"
   ]
  },
  {
   "attachments": {},
   "cell_type": "markdown",
   "metadata": {},
   "source": [
    "### LeNet Model"
   ]
  },
  {
   "cell_type": "code",
   "execution_count": 11,
   "metadata": {},
   "outputs": [],
   "source": [
    "def create_lenet_model():\n",
    "    model = nn.Sequential(\n",
    "        # 1st convolutional layer\n",
    "        nn.Conv2d(1, 6, 5, padding=2), # input channel : 1, output channel : 6, kernel size : 5\n",
    "        nn.ReLU(),\n",
    "        nn.AvgPool2d(2, stride=2),\n",
    "\n",
    "        # 2nd convolutional layer\n",
    "        nn.Conv2d(6, 16, 5, padding=0), # input channel : 6, output channel : 16, kernel size : 5\n",
    "        nn.ReLU(),\n",
    "        nn.AvgPool2d(2, stride=2),\n",
    "\n",
    "        # Flattening layer and linear layers to go to the digit classification\n",
    "        nn.Flatten(),\n",
    "\n",
    "        nn.Linear(400, 120), # 1st linear layer (400 = 16*(5*5) = output size of the last layer * kernel size --> for input, 120 for output is standard Lenet model)\n",
    "        nn.ReLU(),\n",
    "\n",
    "        nn.Linear(120, 84), # 2nd linear layer (120 for input, 84 for output, standard Lenet model)\n",
    "        nn.ReLU(),\n",
    "\n",
    "        nn.Linear(84, 10) # 3rd linear layer that convert to the 10 arabic digits \n",
    "    )\n",
    "    return model"
   ]
  },
  {
   "attachments": {},
   "cell_type": "markdown",
   "metadata": {},
   "source": [
    "Validation function"
   ]
  },
  {
   "cell_type": "code",
   "execution_count": 12,
   "metadata": {},
   "outputs": [],
   "source": [
    "def validate_model(model, data):\n",
    "    total = 0\n",
    "    correct = 0\n",
    "\n",
    "    for i, (images, labels) in enumerate(data):\n",
    "        # get the prediction from the model\n",
    "        x = model(images)\n",
    "        # get the value of the highest prediction\n",
    "        value, pred = torch.max(x, 1)\n",
    "\n",
    "        # increment total and correct\n",
    "        total += x.size(0)\n",
    "        correct += torch.sum(pred == labels)\n",
    "    \n",
    "    return correct*100/total"
   ]
  },
  {
   "attachments": {},
   "cell_type": "markdown",
   "metadata": {},
   "source": [
    "Training function"
   ]
  },
  {
   "cell_type": "code",
   "execution_count": 36,
   "metadata": {},
   "outputs": [],
   "source": [
    "def train_model(train_dataloader, validate_dataloader, numb_epoch=3, learning_rate=1e-3, device=\"cpu\"):\n",
    "    # intialize the model\n",
    "    cnn = create_lenet_model().to(device)\n",
    "    # initialize the cross entropy loss function\n",
    "    cel = nn.CrossEntropyLoss()\n",
    "    # initialize the optimizer\n",
    "    optimizer = optim.Adam(cnn.parameters(), lr=learning_rate)\n",
    "    # initialize accuracy variables\n",
    "    accuracies = []\n",
    "    max_accuracy = 0\n",
    "\n",
    "    for epoch in range(numb_epoch):\n",
    "        for i, (images, labels) in enumerate(train_dataloader):\n",
    "            images = images.to(device)\n",
    "            labels = labels.to(device)\n",
    "            # reset the gradient\n",
    "            optimizer.zero_grad()\n",
    "            pred = cnn(images)\n",
    "            loss = cel(pred, labels)\n",
    "            loss.backward() # backward propagation\n",
    "            optimizer.step()\n",
    "        accuracy = float(validate_model(cnn, validate_dataloader))\n",
    "        accuracies.append(accuracy)\n",
    "\n",
    "        if accuracy > max_accuracy:\n",
    "            best_model = copy.deepcopy(cnn)\n",
    "            max_accuracy = accuracy\n",
    "            print(\"Saving best model with accuracy: {}%\".format(accuracy))\n",
    "        print(\"Epoch: {}, Accuracy: {}%\".format(epoch+1, accuracy))\n",
    "    plt.plot(accuracies)\n",
    "    plt.xlabel(\"Number of epoch\")\n",
    "    plt.ylabel(\"Accuracy [%]\")\n",
    "    plt.show()\n",
    "\n",
    "    return best_model"
   ]
  },
  {
   "attachments": {},
   "cell_type": "markdown",
   "metadata": {},
   "source": [
    "Check for GPU availability"
   ]
  },
  {
   "cell_type": "code",
   "execution_count": 37,
   "metadata": {},
   "outputs": [
    {
     "name": "stdout",
     "output_type": "stream",
     "text": [
      "No Cuda Available\n"
     ]
    },
    {
     "data": {
      "text/plain": [
       "device(type='cpu')"
      ]
     },
     "execution_count": 37,
     "metadata": {},
     "output_type": "execute_result"
    }
   ],
   "source": [
    "if torch.cuda.is_available():\n",
    "    device = torch.device(\"cuda:0\")\n",
    "else:\n",
    "    device = torch.device(\"cpu\")\n",
    "    print(\"No Cuda Available\")\n",
    "\n",
    "# print the device type\n",
    "device"
   ]
  },
  {
   "attachments": {},
   "cell_type": "markdown",
   "metadata": {},
   "source": [
    "Train the model"
   ]
  },
  {
   "cell_type": "code",
   "execution_count": 35,
   "metadata": {},
   "outputs": [
    {
     "name": "stdout",
     "output_type": "stream",
     "text": [
      "Saving best model with accuracy: 95.86000061035156%\n",
      "Epoch: 1, Accuracy: 95.86000061035156%\n",
      "Saving best model with accuracy: 97.19999694824219%\n",
      "Epoch: 2, Accuracy: 97.19999694824219%\n",
      "Saving best model with accuracy: 97.81999969482422%\n",
      "Epoch: 3, Accuracy: 97.81999969482422%\n"
     ]
    },
    {
     "data": {
      "image/png": "[encoded data removed]",
      "text/plain": [
       "<Figure size 640x480 with 1 Axes>"
      ]
     },
     "metadata": {},
     "output_type": "display_data"
    }
   ],
   "source": [
    "lenet = train_model(train_data_loader, validation_data_loader, numb_epoch=10, device=device)"
   ]
  },
  {
   "attachments": {},
   "cell_type": "markdown",
   "metadata": {},
   "source": [
    "Prediction function for data loader"
   ]
  },
  {
   "cell_type": "code",
   "execution_count": 38,
   "metadata": {},
   "outputs": [],
   "source": [
    "def predict_data_loader(model, data):\n",
    "    y_pred = []\n",
    "    y_true = []\n",
    "    for i, (images, labels) in enumerate(data):\n",
    "        # define the model\n",
    "        x = model(images)\n",
    "        # predict the output values according to the model\n",
    "        value, pred = torch.max(x, 1)\n",
    "        # store the predicted values in a list\n",
    "        y_pred.extend(list(pred.numpy()))\n",
    "        # store the correct labels from the dataset in a list\n",
    "        y_true.extend(list(labels.numpy()))\n",
    "\n",
    "    return np.array(y_pred), np.array(y_true)"
   ]
  },
  {
   "cell_type": "code",
   "execution_count": 39,
   "metadata": {},
   "outputs": [],
   "source": [
    "y_pred, y_true = predict_data_loader(lenet, validation_data_loader)"
   ]
  },
  {
   "attachments": {},
   "cell_type": "markdown",
   "metadata": {},
   "source": [
    "Plot the confusion matrix"
   ]
  },
  {
   "cell_type": "code",
   "execution_count": 40,
   "metadata": {},
   "outputs": [
    {
     "data": {
      "text/html": [
       "<div>\n",
       "<style scoped>\n",
       "    .dataframe tbody tr th:only-of-type {\n",
       "        vertical-align: middle;\n",
       "    }\n",
       "\n",
       "    .dataframe tbody tr th {\n",
       "        vertical-align: top;\n",
       "    }\n",
       "\n",
       "    .dataframe thead th {\n",
       "        text-align: right;\n",
       "    }\n",
       "</style>\n",
       "<table border=\"1\" class=\"dataframe\">\n",
       "  <thead>\n",
       "    <tr style=\"text-align: right;\">\n",
       "      <th></th>\n",
       "      <th>0</th>\n",
       "      <th>1</th>\n",
       "      <th>2</th>\n",
       "      <th>3</th>\n",
       "      <th>4</th>\n",
       "      <th>5</th>\n",
       "      <th>6</th>\n",
       "      <th>7</th>\n",
       "      <th>8</th>\n",
       "      <th>9</th>\n",
       "    </tr>\n",
       "  </thead>\n",
       "  <tbody>\n",
       "    <tr>\n",
       "      <th>0</th>\n",
       "      <td>974</td>\n",
       "      <td>0</td>\n",
       "      <td>0</td>\n",
       "      <td>0</td>\n",
       "      <td>0</td>\n",
       "      <td>1</td>\n",
       "      <td>0</td>\n",
       "      <td>1</td>\n",
       "      <td>4</td>\n",
       "      <td>0</td>\n",
       "    </tr>\n",
       "    <tr>\n",
       "      <th>1</th>\n",
       "      <td>0</td>\n",
       "      <td>1134</td>\n",
       "      <td>0</td>\n",
       "      <td>1</td>\n",
       "      <td>0</td>\n",
       "      <td>0</td>\n",
       "      <td>0</td>\n",
       "      <td>0</td>\n",
       "      <td>0</td>\n",
       "      <td>0</td>\n",
       "    </tr>\n",
       "    <tr>\n",
       "      <th>2</th>\n",
       "      <td>0</td>\n",
       "      <td>5</td>\n",
       "      <td>1022</td>\n",
       "      <td>3</td>\n",
       "      <td>0</td>\n",
       "      <td>0</td>\n",
       "      <td>0</td>\n",
       "      <td>2</td>\n",
       "      <td>0</td>\n",
       "      <td>0</td>\n",
       "    </tr>\n",
       "    <tr>\n",
       "      <th>3</th>\n",
       "      <td>0</td>\n",
       "      <td>0</td>\n",
       "      <td>4</td>\n",
       "      <td>996</td>\n",
       "      <td>0</td>\n",
       "      <td>5</td>\n",
       "      <td>0</td>\n",
       "      <td>5</td>\n",
       "      <td>0</td>\n",
       "      <td>0</td>\n",
       "    </tr>\n",
       "    <tr>\n",
       "      <th>4</th>\n",
       "      <td>1</td>\n",
       "      <td>2</td>\n",
       "      <td>1</td>\n",
       "      <td>0</td>\n",
       "      <td>968</td>\n",
       "      <td>0</td>\n",
       "      <td>1</td>\n",
       "      <td>3</td>\n",
       "      <td>0</td>\n",
       "      <td>6</td>\n",
       "    </tr>\n",
       "    <tr>\n",
       "      <th>5</th>\n",
       "      <td>1</td>\n",
       "      <td>0</td>\n",
       "      <td>0</td>\n",
       "      <td>14</td>\n",
       "      <td>0</td>\n",
       "      <td>875</td>\n",
       "      <td>0</td>\n",
       "      <td>1</td>\n",
       "      <td>1</td>\n",
       "      <td>0</td>\n",
       "    </tr>\n",
       "    <tr>\n",
       "      <th>6</th>\n",
       "      <td>7</td>\n",
       "      <td>5</td>\n",
       "      <td>3</td>\n",
       "      <td>0</td>\n",
       "      <td>7</td>\n",
       "      <td>34</td>\n",
       "      <td>897</td>\n",
       "      <td>0</td>\n",
       "      <td>5</td>\n",
       "      <td>0</td>\n",
       "    </tr>\n",
       "    <tr>\n",
       "      <th>7</th>\n",
       "      <td>1</td>\n",
       "      <td>8</td>\n",
       "      <td>12</td>\n",
       "      <td>1</td>\n",
       "      <td>0</td>\n",
       "      <td>0</td>\n",
       "      <td>0</td>\n",
       "      <td>1002</td>\n",
       "      <td>1</td>\n",
       "      <td>3</td>\n",
       "    </tr>\n",
       "    <tr>\n",
       "      <th>8</th>\n",
       "      <td>1</td>\n",
       "      <td>0</td>\n",
       "      <td>6</td>\n",
       "      <td>19</td>\n",
       "      <td>2</td>\n",
       "      <td>0</td>\n",
       "      <td>0</td>\n",
       "      <td>3</td>\n",
       "      <td>939</td>\n",
       "      <td>4</td>\n",
       "    </tr>\n",
       "    <tr>\n",
       "      <th>9</th>\n",
       "      <td>3</td>\n",
       "      <td>6</td>\n",
       "      <td>1</td>\n",
       "      <td>6</td>\n",
       "      <td>8</td>\n",
       "      <td>3</td>\n",
       "      <td>0</td>\n",
       "      <td>6</td>\n",
       "      <td>1</td>\n",
       "      <td>975</td>\n",
       "    </tr>\n",
       "  </tbody>\n",
       "</table>\n",
       "</div>"
      ],
      "text/plain": [
       "     0     1     2    3    4    5    6     7    8    9\n",
       "0  974     0     0    0    0    1    0     1    4    0\n",
       "1    0  1134     0    1    0    0    0     0    0    0\n",
       "2    0     5  1022    3    0    0    0     2    0    0\n",
       "3    0     0     4  996    0    5    0     5    0    0\n",
       "4    1     2     1    0  968    0    1     3    0    6\n",
       "5    1     0     0   14    0  875    0     1    1    0\n",
       "6    7     5     3    0    7   34  897     0    5    0\n",
       "7    1     8    12    1    0    0    0  1002    1    3\n",
       "8    1     0     6   19    2    0    0     3  939    4\n",
       "9    3     6     1    6    8    3    0     6    1  975"
      ]
     },
     "execution_count": 40,
     "metadata": {},
     "output_type": "execute_result"
    }
   ],
   "source": [
    "pd.DataFrame(confusion_matrix(y_true, y_pred, labels=np.arange(0, 10)))"
   ]
  },
  {
   "attachments": {},
   "cell_type": "markdown",
   "metadata": {},
   "source": [
    "Test the LeNet model on various digits images"
   ]
  },
  {
   "attachments": {},
   "cell_type": "markdown",
   "metadata": {},
   "source": [
    "Inference function"
   ]
  },
  {
   "cell_type": "code",
   "execution_count": 45,
   "metadata": {},
   "outputs": [],
   "source": [
    "def inference_function(path, model, device):\n",
    "    # get the image from its path\n",
    "    r = requests.get(path)\n",
    "    # apply basic transformation to the image to fit the requested dimensions (28x28)\n",
    "    with BytesIO(r.content) as f:\n",
    "        img = Image.open(f).convert(mode=\"L\")\n",
    "        img = img.resize((28, 28))\n",
    "        x = (255 - np.expand_dims(np.array(img), -1))/255.\n",
    "\n",
    "    with torch.no_grad():\n",
    "        pred = model(torch.unsqueeze(T(x), axis=0).float().to(device))\n",
    "        return funct.softmax(pred, dim=-1).cpu().numpy()"
   ]
  },
  {
   "attachments": {},
   "cell_type": "markdown",
   "metadata": {},
   "source": [
    "Test the model on a random image on the Internet"
   ]
  },
  {
   "cell_type": "code",
   "execution_count": 64,
   "metadata": {},
   "outputs": [
    {
     "data": {
      "image/png": "[encoded data removed]",
      "text/plain": [
       "<Figure size 640x480 with 1 Axes>"
      ]
     },
     "metadata": {},
     "output_type": "display_data"
    }
   ],
   "source": [
    "# Find an image on the internet, store its adress into path, plot the image and store its label\n",
    "path = \"https://ak7.picdn.net/shutterstock/videos/23708587/thumb/1.jpg?ip=x480\"\n",
    "r = requests.get(path)\n",
    "with BytesIO(r.content) as f:\n",
    "    img = Image.open(f).convert(mode=\"L\")\n",
    "    img = img.resize((28, 28))\n",
    "    x = (255 - np.expand_dims(np.array(img), -1))/255.\n",
    "\n",
    "plt.imshow(x.squeeze(-1), cmap=\"gray\")\n",
    "plt.show()"
   ]
  },
  {
   "cell_type": "code",
   "execution_count": 65,
   "metadata": {},
   "outputs": [
    {
     "name": "stdout",
     "output_type": "stream",
     "text": [
      "Predicted: 2, Probability: 47.078103%\n"
     ]
    }
   ],
   "source": [
    "# make the prediction using the LeNet model\n",
    "\n",
    "pred = inference_function(path, lenet, device=device)\n",
    "# get the index for the highest confidence prediction\n",
    "pred_idx = np.argmax(pred)\n",
    "print(\"Predicted: {}, Probability: {:%}\".format(pred_idx, pred[0][pred_idx]))"
   ]
  },
  {
   "cell_type": "code",
   "execution_count": 76,
   "metadata": {},
   "outputs": [
    {
     "data": {
      "text/html": [
       "<div>\n",
       "<style scoped>\n",
       "    .dataframe tbody tr th:only-of-type {\n",
       "        vertical-align: middle;\n",
       "    }\n",
       "\n",
       "    .dataframe tbody tr th {\n",
       "        vertical-align: top;\n",
       "    }\n",
       "\n",
       "    .dataframe thead th {\n",
       "        text-align: right;\n",
       "    }\n",
       "</style>\n",
       "<table border=\"1\" class=\"dataframe\">\n",
       "  <thead>\n",
       "    <tr style=\"text-align: right;\">\n",
       "      <th></th>\n",
       "      <th>0</th>\n",
       "      <th>1</th>\n",
       "      <th>2</th>\n",
       "      <th>3</th>\n",
       "      <th>4</th>\n",
       "      <th>5</th>\n",
       "      <th>6</th>\n",
       "      <th>7</th>\n",
       "      <th>8</th>\n",
       "      <th>9</th>\n",
       "    </tr>\n",
       "  </thead>\n",
       "  <tbody>\n",
       "    <tr>\n",
       "      <th>probability</th>\n",
       "      <td>0.011133</td>\n",
       "      <td>0.175383</td>\n",
       "      <td>0.470781</td>\n",
       "      <td>0.157046</td>\n",
       "      <td>0.024327</td>\n",
       "      <td>0.071989</td>\n",
       "      <td>0.004421</td>\n",
       "      <td>0.034072</td>\n",
       "      <td>0.039594</td>\n",
       "      <td>0.011254</td>\n",
       "    </tr>\n",
       "  </tbody>\n",
       "</table>\n",
       "</div>"
      ],
      "text/plain": [
       "                    0         1         2         3         4         5  \\\n",
       "probability  0.011133  0.175383  0.470781  0.157046  0.024327  0.071989   \n",
       "\n",
       "                    6         7         8         9  \n",
       "probability  0.004421  0.034072  0.039594  0.011254  "
      ]
     },
     "execution_count": 76,
     "metadata": {},
     "output_type": "execute_result"
    }
   ],
   "source": [
    "df = pd.DataFrame(pred, columns=np.arange(0,10), index=['probability'])\n",
    "df"
   ]
  },
  {
   "attachments": {},
   "cell_type": "markdown",
   "metadata": {},
   "source": [
    "Low probability since the image is very bad, we can easily confuse between 1 and 2.\n",
    "\n",
    "\n",
    "We can try with a different image:"
   ]
  },
  {
   "cell_type": "code",
   "execution_count": 59,
   "metadata": {},
   "outputs": [
    {
     "data": {
      "image/png": "[encoded data removed]",
      "text/plain": [
       "<Figure size 640x480 with 1 Axes>"
      ]
     },
     "metadata": {},
     "output_type": "display_data"
    }
   ],
   "source": [
    "# Find an image on the internet, store its adress into path, plot the image and store its label\n",
    "path = \"https://suncatcherstudio.com/uploads/lettering-fonts/cursive-letters-font/svg/cursive-letters-font-number-2-020202-010101.png\"\n",
    "r = requests.get(path)\n",
    "with BytesIO(r.content) as f:\n",
    "    img = Image.open(f).convert(mode=\"L\")\n",
    "    img = img.resize((28, 28))\n",
    "    x = (255 - np.expand_dims(np.array(img), -1))/255.\n",
    "\n",
    "plt.imshow(x.squeeze(-1), cmap=\"gray\")\n",
    "plt.show()"
   ]
  },
  {
   "cell_type": "code",
   "execution_count": 60,
   "metadata": {},
   "outputs": [
    {
     "name": "stdout",
     "output_type": "stream",
     "text": [
      "Predicted: 2, Probability: 99.676991%\n"
     ]
    }
   ],
   "source": [
    "# make the prediction using the LeNet model\n",
    "\n",
    "pred = inference_function(path, lenet, device=device)\n",
    "# get the index for the highest confidence prediction\n",
    "pred_idx = np.argmax(pred)\n",
    "print(\"Predicted: {}, Probability: {:%}\".format(pred_idx, pred[0][pred_idx]))"
   ]
  },
  {
   "attachments": {},
   "cell_type": "markdown",
   "metadata": {},
   "source": [
    "Now, we get a very high probability since the image is clearly a 2."
   ]
  },
  {
   "cell_type": "code",
   "execution_count": null,
   "metadata": {},
   "outputs": [],
   "source": []
  }
 ],
 "metadata": {
  "kernelspec": {
   "display_name": "Python 3",
   "language": "python",
   "name": "python3"
  },
  "language_info": {
   "codemirror_mode": {
    "name": "ipython",
    "version": 3
   },
   "file_extension": ".py",
   "mimetype": "text/x-python",
   "name": "python",
   "nbconvert_exporter": "python",
   "pygments_lexer": "ipython3",
   "version": "3.9.5"
  },
  "orig_nbformat": 4
 },
 "nbformat": 4,
 "nbformat_minor": 2
}
