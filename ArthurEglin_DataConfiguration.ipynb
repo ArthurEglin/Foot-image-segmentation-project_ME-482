{
 "cells": [
  {
   "attachments": {},
   "cell_type": "markdown",
   "metadata": {},
   "source": [
    "# Data configuration for the foot reconstruction project"
   ]
  },
  {
   "attachments": {},
   "cell_type": "markdown",
   "metadata": {},
   "source": [
    "## Environment settings"
   ]
  },
  {
   "cell_type": "markdown",
   "metadata": {},
   "source": []
  },
  {
   "attachments": {},
   "cell_type": "markdown",
   "metadata": {},
   "source": [
    "### Librairies import"
   ]
  },
  {
   "cell_type": "code",
   "execution_count": null,
   "metadata": {},
   "outputs": [],
   "source": [
    "import numpy as np\n",
    "import random\n",
    "import matplotlib.pyplot as plt\n",
    "import matplotlib.pylab as plb\n",
    "import os\n",
    "import pandas as pd\n",
    "\n",
    "# data extraction\n",
    "import glob\n",
    "\n",
    "# import CT scans (.dcm)\n",
    "import pydicom as dicom\n",
    "\n",
    "# import masks (.bmp)\n",
    "from PIL import Image\n",
    "\n",
    "# create gifs\n",
    "import imageio\n",
    "\n",
    "# plot the gifs\n",
    "# install the library using this command: pip install git+https://github.com/tensorflow/docs\n",
    "import tensorflow_docs.vis.embed as embed\n",
    "\n",
    "# resizing and basic image procressing\n",
    "import cv2\n",
    "\n",
    "# display progress bar\n",
    "from tqdm import tqdm\n",
    "\n",
    "# data augmentation library\n",
    "from albumentations import HorizontalFlip, VerticalFlip, Rotate\n",
    "\n",
    "# model\n",
    "import torch\n",
    "import torch.nn as nn\n",
    "import torch.nn.functional as F\n",
    "from torch.utils.data import DataLoader\n",
    "from torch.utils.data import Dataset\n",
    "\n",
    "# training\n",
    "import time\n",
    "\n",
    "# test\n",
    "from operator import add\n",
    "import imageio\n",
    "from sklearn.metrics import accuracy_score, f1_score, jaccard_score, precision_score, recall_score"
   ]
  },
  {
   "attachments": {},
   "cell_type": "markdown",
   "metadata": {},
   "source": [
    "### Hyperparameters"
   ]
  },
  {
   "cell_type": "code",
   "execution_count": null,
   "metadata": {},
   "outputs": [],
   "source": [
    "TRAIN_PROPORTION = 0.6\n",
    "VALIDATION_PROPORTION = 0.8\n",
    "global_path = \"C:/Users/arthu/Downloads/data/NN_Pieds/\""
   ]
  },
  {
   "attachments": {},
   "cell_type": "markdown",
   "metadata": {},
   "source": [
    "### Utility functions"
   ]
  },
  {
   "cell_type": "code",
   "execution_count": null,
   "metadata": {},
   "outputs": [],
   "source": [
    "def print_image(image):\n",
    "    plt.imshow(image, cmap='gray')\n",
    "    plt.colorbar()\n",
    "    plt.show()"
   ]
  },
  {
   "cell_type": "code",
   "execution_count": null,
   "metadata": {},
   "outputs": [],
   "source": [
    "def create_dir(path):\n",
    "    if not os.path.exists(path):\n",
    "        os.makedirs(path)"
   ]
  },
  {
   "attachments": {},
   "cell_type": "markdown",
   "metadata": {},
   "source": [
    "Define the `fill_hole` function: takes an array of images, fill the shapes of each image and return an array of the filled images."
   ]
  },
  {
   "cell_type": "code",
   "execution_count": null,
   "metadata": {},
   "outputs": [],
   "source": [
    "def fill_hole(images):\n",
    "    imgsout = []\n",
    "    h, w = images[0].shape[:2]\n",
    "    \n",
    "    for image in images:\n",
    "        mask = np.zeros((h+2, w+2), np.uint8)\n",
    "        imfloodfill = image.copy()\n",
    "        cv2.floodFill(imfloodfill, mask, (0,0), 255)\n",
    "        imout = cv2.bitwise_not(imfloodfill)/255\n",
    "        imout = imout > 0\n",
    "        imgsout.append(imout.astype(np.uint8))\n",
    "\n",
    "    return np.array(imgsout)"
   ]
  },
  {
   "cell_type": "code",
   "execution_count": null,
   "metadata": {},
   "outputs": [],
   "source": [
    "def load_data_path(path, id):\n",
    "    X_path = 'CTscans_' + id\n",
    "    y_path = 'masques_' + id\n",
    "    X = sorted(list(map(lambda x: x.replace('\\\\', '/'), glob.glob(os.path.join(path, X_path, \"*.dcm\")))))\n",
    "    y = sorted(list(map(lambda x: x.replace('\\\\', '/'), glob.glob(os.path.join(path, y_path, 'calcaneum', \"*.bmp\")))))\n",
    "\n",
    "    return X, y"
   ]
  },
  {
   "cell_type": "code",
   "execution_count": null,
   "metadata": {},
   "outputs": [],
   "source": [
    "def augment_data(images, masks, save_path, augment=False):\n",
    "    # define image size\n",
    "    size = (512, 512)\n",
    "\n",
    "    for idx, (x, y) in tqdm(enumerate(zip(images, masks)), total=len(images)):\n",
    "        # extract the name of the image\n",
    "        name = x.split(\"/\")[-1].split('.')[0]\n",
    "        \n",
    "        # read the image and the mask\n",
    "        x = dicom.dcmread(x).pixel_array\n",
    "        y = np.array(Image.open(y))\n",
    "\n",
    "        if augment == True:\n",
    "            aug = HorizontalFlip(p=1.0) # p is the probability of applying HorizontalFlip\n",
    "            augmented = aug(image=x, mask=y)\n",
    "            x1 = augmented[\"image\"]\n",
    "            y1 = augmented[\"mask\"]\n",
    "\n",
    "            aug = VerticalFlip(p=1.0)\n",
    "            augmented = aug(image=x, mask=y)\n",
    "            x2 = augmented[\"image\"]\n",
    "            y2 = augmented[\"mask\"]\n",
    "\n",
    "            aug = Rotate(limit=45, p=1.0) # 45 degree rotation\n",
    "            augmented = aug(image=x, mask=y)\n",
    "            x3 = augmented[\"image\"]\n",
    "            y3 = augmented[\"mask\"]\n",
    "\n",
    "            X = [x, x1, x2, x3]\n",
    "            Y = [y, y1, y2, y3]\n",
    "\n",
    "        else:\n",
    "            X = [x]\n",
    "            Y = [y]\n",
    "\n",
    "        index = 0\n",
    "        \n",
    "        for i, m in zip(X, Y):\n",
    "\n",
    "            # resize the arrays\n",
    "            i = cv2.resize(i, size)\n",
    "            m = cv2.resize(m, size)\n",
    "\n",
    "            # create temporary file names\n",
    "            tmp_image_name = \"{}_{}.png\".format(name, index)\n",
    "            tmp_mask_name = \"{}_{}.png\".format(name, index)\n",
    "\n",
    "            # save images\n",
    "            image_path = os.path.join(save_path, \"image\", tmp_image_name)\n",
    "            mask_path = os.path.join(save_path, \"mask\", tmp_mask_name)\n",
    "            \n",
    "            cv2.imwrite(image_path, i)\n",
    "            cv2.imwrite(mask_path, m)\n",
    "\n",
    "            index += 1"
   ]
  },
  {
   "cell_type": "code",
   "execution_count": null,
   "metadata": {},
   "outputs": [],
   "source": [
    "def sample_stack(stack, rows=6, cols=6, start_with=10, show_every=3):\n",
    "    fig,ax = plt.subplots(rows,cols,figsize=[20,22])\n",
    "    for i in range(rows*cols):\n",
    "        ind = start_with + i*show_every\n",
    "        ax[int(i/rows),int(i % rows)].set_title(f'slice {ind}')\n",
    "        ax[int(i/rows),int(i % rows)].imshow(stack[ind],cmap='gray')\n",
    "        ax[int(i/rows),int(i % rows)].axis('off')\n",
    "    plt.show()"
   ]
  },
  {
   "cell_type": "code",
   "execution_count": null,
   "metadata": {},
   "outputs": [],
   "source": [
    "def get_foot_file_paths(global_path):\n",
    "    return np.array(list(map(lambda x: x.replace('\\\\', '/'), glob.glob(str(global_path + \"/*\")))))"
   ]
  },
  {
   "cell_type": "code",
   "execution_count": null,
   "metadata": {},
   "outputs": [],
   "source": [
    "def get_foot_subfile_paths(foot_file_paths):\n",
    "    CTscan_paths = []\n",
    "    Masks_paths = []\n",
    "    for path in foot_file_paths:\n",
    "        temp = list(map(lambda x: x.replace('\\\\', '/'), glob.glob(str(path + \"/*\"))))\n",
    "        CTscan_paths.append(temp[0])\n",
    "        Masks_paths.append(temp[1])\n",
    "\n",
    "    return np.array(CTscan_paths), np.array(Masks_paths)"
   ]
  },
  {
   "cell_type": "code",
   "execution_count": null,
   "metadata": {},
   "outputs": [],
   "source": [
    "def create_masks_addresses(mask_paths):\n",
    "    dir_paths = list(map(lambda x: x.replace('\\\\', '/'), glob.glob(str(mask_paths + \"/*\"))))\n",
    "    addresses = []\n",
    "    for path in dir_paths:\n",
    "        addresses.append(np.array(list(map(lambda x: x.replace('\\\\', '/'), glob.glob(str(path+\"/*.bmp\"))))))\n",
    "\n",
    "    return np.array(addresses)"
   ]
  },
  {
   "cell_type": "code",
   "execution_count": null,
   "metadata": {},
   "outputs": [],
   "source": [
    "def create_compressed_mask(addresses):\n",
    "    compressed_masks = []\n",
    "    for i in tqdm(range(addresses.shape[1])):\n",
    "        int_mask = np.zeros((512,512))\n",
    "        for j in range(addresses.shape[0]):\n",
    "            int_mask += np.array(Image.open(addresses[j][i]))\n",
    "\n",
    "        int_mask[int_mask > 0] = 1\n",
    "        compressed_masks.append(int_mask)\n",
    "\n",
    "    return np.array(compressed_masks).astype(np.uint8)"
   ]
  },
  {
   "cell_type": "code",
   "execution_count": null,
   "metadata": {},
   "outputs": [],
   "source": [
    "def create_compressed_mask_file(compressed_masks, name, save_path):\n",
    "    size = (compressed_masks.shape[1], compressed_masks.shape[2])\n",
    "    \n",
    "    for idx in range(compressed_masks.shape[0]):\n",
    "        \n",
    "        # resize the arrays\n",
    "        tmp_mask = cv2.resize(compressed_masks[idx], size)\n",
    "\n",
    "        # create temporary file name\n",
    "        tmp_mask_name = str(save_path + \"{}_{}.png\".format(name, idx+1))\n",
    "\n",
    "        cv2.imwrite(tmp_mask_name, tmp_mask)"
   ]
  },
  {
   "cell_type": "code",
   "execution_count": null,
   "metadata": {},
   "outputs": [],
   "source": [
    "def create_CTscans_file(global_path, save_path, name, id):\n",
    "    CTscans = []\n",
    "    size = (512, 512)\n",
    "    temp_list = list(map(lambda x: x.replace('\\\\', '/'),glob.glob(str(get_foot_subfile_paths(get_foot_file_paths(global_path))[0][id] + \"/*.dcm\"))))\n",
    "    del temp_list[-1]\n",
    "    idx = 0\n",
    "    for scan_path in temp_list:\n",
    "        # resize the arrays\n",
    "        tmp_scan = cv2.resize(dicom.dcmread(scan_path).pixel_array, size)\n",
    "\n",
    "        # create temporary file name\n",
    "        tmp_scan_name = str(save_path + \"{}_{}.png\".format(name, idx+1))\n",
    "\n",
    "        cv2.imwrite(tmp_scan_name, tmp_scan)\n",
    "\n",
    "        idx += 1"
   ]
  },
  {
   "cell_type": "code",
   "execution_count": null,
   "metadata": {},
   "outputs": [],
   "source": [
    "def create_dataset_files(addresses, train_proportion=0.6, validation_proportion=0.8):\n",
    "    train_lim = np.round(len(addresses)*train_proportion)\n",
    "    valid_lim = np.round(len(addresses)*validation_proportion)\n",
    "    for idx in tqdm(range(len(addresses))):\n",
    "        # create the compressed masks\n",
    "        compressed_masks = create_compressed_mask(addresses=addresses[idx])\n",
    "        # get the patient number and create\n",
    "        num = addresses[idx][0][0].split('/')[-1][1:3]\n",
    "        mask_name = str(num + '_mask')\n",
    "        scan_name = str(num + '_CTscan')\n",
    "        # save the files\n",
    "        if 0 <= idx < train_lim:\n",
    "            create_compressed_mask_file(compressed_masks=compressed_masks, name=mask_name, save_path='data/foot_data/train/mask/')\n",
    "            create_CTscans_file(global_path=global_path, name=scan_name, save_path='data/foot_data/train/image/', id=idx)\n",
    "        if train_lim <= idx < valid_lim:\n",
    "            create_compressed_mask_file(compressed_masks=compressed_masks, name=mask_name, save_path='data/foot_data/validation/mask/')\n",
    "            create_CTscans_file(global_path=global_path, name=scan_name, save_path='data/foot_data/validation/image/', id=idx)\n",
    "        if valid_lim <= idx < len(addresses):\n",
    "            create_compressed_mask_file(compressed_masks=compressed_masks, name=mask_name, save_path='data/foot_data/test/mask/')\n",
    "            create_CTscans_file(global_path=global_path, name=scan_name, save_path='data/foot_data/test/image/', id=idx)"
   ]
  },
  {
   "cell_type": "code",
   "execution_count": null,
   "metadata": {},
   "outputs": [],
   "source": [
    "def create_gifs(CTscan, mask, data_number=None):\n",
    "    # Create the gifs of the CT scan and of the masks\n",
    "    imageio.mimsave('./images_notebooks/gif/CTscan_{}.gif'.format(data_number), CTscan, fps=30)\n",
    "    imageio.mimsave('./images_notebooks/gif/Mask_{}.gif'.format(data_number), mask*255, fps=30)\n",
    "\n",
    "    #Create reader object for the gif\n",
    "    gif1 = imageio.get_reader(r'C:/Users/arthu/OneDrive/Documents/MASV2/Biomechanics of the musculoskeletal system/Projet/Foot-image-segmentation-project_ME-482/images_notebooks/gif/CTscan_50.gif')\n",
    "    gif2 = imageio.get_reader(r'C:\\Users\\arthu\\OneDrive\\Documents\\MASV2\\Biomechanics of the musculoskeletal system\\Projet\\Foot-image-segmentation-project_ME-482/images_notebooks/gif/Mask_50.gif')\n",
    "\n",
    "    #If they don't have the same number of frame take the shorter\n",
    "    number_of_frames = min(gif1.get_length(), gif2.get_length()) \n",
    "\n",
    "    #Create writer object\n",
    "    new_gif = imageio.get_writer(r'C:\\Users\\arthu\\OneDrive\\Documents\\MASV2\\Biomechanics of the musculoskeletal system\\Projet\\Foot-image-segmentation-project_ME-482/images_notebooks/gif/CTscan_Mask_50.gif')\n",
    "\n",
    "    for frame_number in range(number_of_frames):\n",
    "        img1 = gif1.get_next_data()\n",
    "        img2 = gif2.get_next_data()\n",
    "        #here is the magic\n",
    "        new_image = np.hstack((img1, img2))\n",
    "        new_gif.append_data(new_image)"
   ]
  },
  {
   "attachments": {},
   "cell_type": "markdown",
   "metadata": {},
   "source": [
    "### Loading the data paths"
   ]
  },
  {
   "attachments": {},
   "cell_type": "markdown",
   "metadata": {},
   "source": [
    "### Create the dataset (with data augmentation)"
   ]
  },
  {
   "attachments": {},
   "cell_type": "markdown",
   "metadata": {},
   "source": [
    "create the files for the dataset"
   ]
  },
  {
   "cell_type": "code",
   "execution_count": null,
   "metadata": {},
   "outputs": [],
   "source": [
    "upper_files = ['train', 'validation', 'test']\n",
    "lower_files = ['image', 'mask']\n",
    "\n",
    "for upper_file in upper_files:\n",
    "    for lower_file in lower_files:\n",
    "        create_dir('data/foot_data/' + upper_file + '/' + lower_file + '/')"
   ]
  },
  {
   "cell_type": "code",
   "execution_count": null,
   "metadata": {},
   "outputs": [],
   "source": [
    "foot_file_paths = get_foot_file_paths(global_path)"
   ]
  },
  {
   "cell_type": "code",
   "execution_count": null,
   "metadata": {},
   "outputs": [],
   "source": [
    "X, y = get_foot_subfile_paths(foot_file_paths)"
   ]
  },
  {
   "cell_type": "code",
   "execution_count": null,
   "metadata": {},
   "outputs": [],
   "source": [
    "addresses = []\n",
    "for patient in tqdm(y):\n",
    "    addresses.append(create_masks_addresses(patient))"
   ]
  },
  {
   "cell_type": "code",
   "execution_count": null,
   "metadata": {},
   "outputs": [],
   "source": [
    "create_dataset_files(addresses, TRAIN_PROPORTION, VALIDATION_PROPORTION)"
   ]
  },
  {
   "cell_type": "code",
   "execution_count": null,
   "metadata": {},
   "outputs": [],
   "source": [
    "def create_foot_gif(number):\n",
    "    CTscan = []\n",
    "    masks = []\n",
    "    for path in tqdm(sorted(list(map(lambda x: x.replace('\\\\', '/'),glob.glob(str(\"C:/Users/arthu/Downloads/data/NN_Pieds/pied_{}/CTscans_{}/*.dcm\").format(number)))))):\n",
    "        CTscan.append(dicom.dcmread(path).pixel_array)\n",
    "\n",
    "    for path in tqdm(glob.glob(r\"C:\\Users\\arthu\\OneDrive\\Documents\\MASV2\\Biomechanics of the musculoskeletal system\\Projet\\Foot-image-segmentation-project_ME-482\\data\\foot_data\\train\\mask/*.png\")[0:740]):\n",
    "        masks.append(np.array(Image.open(path))*255)\n",
    "\n",
    "    create_gifs(CTscan=np.array(CTscan), mask=np.array(masks), data_number=number)"
   ]
  },
  {
   "cell_type": "code",
   "execution_count": null,
   "metadata": {},
   "outputs": [],
   "source": [
    "sorted(list(map(lambda x: x.replace('\\\\', '/'),glob.glob(r\"C:\\Users\\arthu\\OneDrive\\Documents\\MASV2\\Biomechanics of the musculoskeletal system\\Projet\\Foot-image-segmentation-project_ME-482\\data\\foot_data\\train\\mask/*.png\"))))[0:740]"
   ]
  },
  {
   "cell_type": "code",
   "execution_count": null,
   "metadata": {},
   "outputs": [],
   "source": [
    "embed.embed_file('./images_notebooks/gif/CTscan_Mask_{}.gif'.format('50'))"
   ]
  },
  {
   "cell_type": "code",
   "execution_count": null,
   "metadata": {},
   "outputs": [],
   "source": [
    "plt.rcParams[\"figure.figsize\"] = [7.00, 3.50]\n",
    "plt.rcParams[\"figure.autolayout\"] = True\n",
    "fig = plt.figure()\n",
    "ax = fig.add_subplot(111, projection='3d')\n",
    "z, x, y = masks.nonzero()\n",
    "ax.scatter(x, y, z, c=z, cmap='gray', alpha=1)\n",
    "plt.show()"
   ]
  },
  {
   "cell_type": "code",
   "execution_count": null,
   "metadata": {},
   "outputs": [],
   "source": []
  }
 ],
 "metadata": {
  "kernelspec": {
   "display_name": "Python 3",
   "language": "python",
   "name": "python3"
  },
  "language_info": {
   "codemirror_mode": {
    "name": "ipython",
    "version": 3
   },
   "file_extension": ".py",
   "mimetype": "text/x-python",
   "name": "python",
   "nbconvert_exporter": "python",
   "pygments_lexer": "ipython3",
   "version": "3.9.5"
  },
  "orig_nbformat": 4
 },
 "nbformat": 4,
 "nbformat_minor": 2
}
