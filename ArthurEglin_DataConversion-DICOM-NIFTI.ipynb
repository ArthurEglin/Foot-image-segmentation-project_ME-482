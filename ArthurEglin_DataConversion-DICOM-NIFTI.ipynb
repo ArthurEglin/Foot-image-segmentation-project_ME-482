{
 "cells": [
  {
   "cell_type": "code",
   "execution_count": 177,
   "metadata": {},
   "outputs": [],
   "source": [
    "import numpy as np\n",
    "import matplotlib.pyplot as plt\n",
    "import os\n",
    "\n",
    "import dicom2nifti\n",
    "\n",
    "import gzip\n",
    "import shutil\n",
    "\n",
    "import nibabel as nib\n",
    "from PIL import Image\n",
    "\n",
    "from glob import glob\n",
    "from tqdm import tqdm"
   ]
  },
  {
   "attachments": {},
   "cell_type": "markdown",
   "metadata": {},
   "source": [
    "## DICOM to NIFTI.GZ conversion"
   ]
  },
  {
   "cell_type": "code",
   "execution_count": 174,
   "metadata": {},
   "outputs": [],
   "source": [
    "def create_nifti_CTscans_compressed(nifti_main_path, CTscans_main_path):\n",
    "    # create the path list for all patient folders\n",
    "    main_paths = glob(str(CTscans_main_path + r'\\*'))\n",
    "    # create the path list for all patient complete foot masks folders\n",
    "    sub_paths = []\n",
    "    for path in main_paths:\n",
    "        tmp = glob(str(path + r'\\*'))\n",
    "        sub_paths.append(tmp[0])\n",
    "    \n",
    "    # iterate over all the patients for the masks\n",
    "    print(\"Creating the .nii.gz files:\")\n",
    "    for i in tqdm(range(len(sub_paths))):\n",
    "        # get the patient index\n",
    "        idx = main_paths[i].split('\\\\')[-1].split('_')[-1]\n",
    "        # create the path for the new .nii file using the patient index\n",
    "        nifti_path = nifti_main_path + r'\\patient_' + str(idx)\n",
    "        # create the .nii file\n",
    "        dicom2nifti.dicom_series_to_nifti(sub_paths[i], nifti_path)\n",
    "        # create the .nii.gz compressed file\n",
    "        with open(str(nifti_path + '.nii'), 'rb') as f_input:\n",
    "            with gzip.open(str(nifti_path + '.nii.gz'), 'wb') as f_output:\n",
    "                shutil.copyfileobj(f_input, f_output)\n",
    "        # remove the .nii file to gain memory\n",
    "        os.remove(str(nifti_path + '.nii'))"
   ]
  },
  {
   "attachments": {},
   "cell_type": "markdown",
   "metadata": {},
   "source": [
    "define the paths for DICOM to NIFTI conversion"
   ]
  },
  {
   "cell_type": "code",
   "execution_count": 175,
   "metadata": {},
   "outputs": [],
   "source": [
    "# input\n",
    "CTscans_main_path = r'C:\\Users\\arthu\\Downloads\\data\\NN_Pieds'\n",
    "# output\n",
    "nifti_main_path = r'C:\\Users\\arthu\\Downloads\\nnUNet_raw_data_base\\nnUNet_raw_data\\Task501_Foot\\imagesTr'"
   ]
  },
  {
   "attachments": {},
   "cell_type": "markdown",
   "metadata": {},
   "source": [
    "perform DICOM to NIFTI conversion"
   ]
  },
  {
   "cell_type": "code",
   "execution_count": 176,
   "metadata": {},
   "outputs": [
    {
     "name": "stdout",
     "output_type": "stream",
     "text": [
      "Creating the .nii.gz files:\n"
     ]
    },
    {
     "name": "stderr",
     "output_type": "stream",
     "text": [
      "100%|██████████| 11/11 [16:22<00:00, 89.31s/it]\n"
     ]
    }
   ],
   "source": [
    "create_nifti_CTscans_compressed(nifti_main_path=nifti_main_path, CTscans_main_path=CTscans_main_path)"
   ]
  },
  {
   "attachments": {},
   "cell_type": "markdown",
   "metadata": {},
   "source": [
    "## NUMPY.ARRAY to NIFTI.GZ conversion"
   ]
  },
  {
   "cell_type": "code",
   "execution_count": 136,
   "metadata": {},
   "outputs": [],
   "source": [
    "def create_nifti_masks_compressed(nifti_main_path, masks_main_path):\n",
    "    # create the path list for all patient folders\n",
    "    main_paths = glob(str(masks_main_path + r'\\*'))\n",
    "    # create the path list for all patient complete foot masks folders\n",
    "    sub_paths = []\n",
    "    for path in main_paths:\n",
    "        tmp = glob(str(path + r'\\*\\ALL'))\n",
    "        sub_paths.append(tmp[-1])\n",
    "    \n",
    "    # create the path list for all files of all patient complete foot masks\n",
    "    file_paths = []\n",
    "    for path in sub_paths:\n",
    "        file_paths.append(glob(str(path + r'\\*.png')))\n",
    "    \n",
    "    # get the image arrays of all the patients' masks for the complete foot\n",
    "    print(\"Loading the masks:\")\n",
    "    masks = []\n",
    "    for idx in tqdm(range(len(file_paths))):\n",
    "        foot = []\n",
    "        for path in file_paths[idx]:\n",
    "            foot.append(np.array(Image.open(path)))\n",
    "        masks.append(np.array(foot))\n",
    "\n",
    "    # iterate over all the patients for the masks\n",
    "    print(\"Creating the .nii.gz files:\")\n",
    "    for i in tqdm(range(len(masks))):\n",
    "        # get the patient index\n",
    "        idx = main_paths[i].split('\\\\')[-1].split('_')[-1]\n",
    "        # create the path for the new .nii.gz file using the patient index\n",
    "        nifti_path = nifti_main_path + r'\\patient_' + str(idx) + r'.nii.gz'\n",
    "        # create the .nii.gz file\n",
    "        nifti_img = nib.Nifti1Image(masks[i], np.eye(4))\n",
    "        # save the .nii.gz file\n",
    "        nib.save(nifti_img, nifti_path)"
   ]
  },
  {
   "attachments": {},
   "cell_type": "markdown",
   "metadata": {},
   "source": [
    "define the paths for NUMPY.ARRAY to NIFTI conversion"
   ]
  },
  {
   "cell_type": "code",
   "execution_count": 129,
   "metadata": {},
   "outputs": [],
   "source": [
    "# input\n",
    "masks_main_path = r'C:\\Users\\arthu\\Downloads\\data\\NN_Pieds'\n",
    "# output\n",
    "nifti_main_path = r'C:\\Users\\arthu\\Downloads\\nnUNet_raw_data_base\\nnUNet_raw_data\\Task501_Foot\\labelsTr'"
   ]
  },
  {
   "attachments": {},
   "cell_type": "markdown",
   "metadata": {},
   "source": [
    "perform NUMPY.ARRAY to NIFTI conversion"
   ]
  },
  {
   "cell_type": "code",
   "execution_count": 137,
   "metadata": {},
   "outputs": [
    {
     "name": "stdout",
     "output_type": "stream",
     "text": [
      "Loading the masks:\n"
     ]
    },
    {
     "name": "stderr",
     "output_type": "stream",
     "text": [
      "100%|██████████| 11/11 [00:10<00:00,  1.03it/s]\n"
     ]
    },
    {
     "name": "stdout",
     "output_type": "stream",
     "text": [
      "Creating the .nii.gz files:\n"
     ]
    },
    {
     "name": "stderr",
     "output_type": "stream",
     "text": [
      "100%|██████████| 11/11 [00:35<00:00,  3.25s/it]\n"
     ]
    }
   ],
   "source": [
    "create_nifti_masks_compressed(nifti_main_path=nifti_main_path, masks_main_path=masks_main_path)"
   ]
  }
 ],
 "metadata": {
  "kernelspec": {
   "display_name": "Python 3",
   "language": "python",
   "name": "python3"
  },
  "language_info": {
   "codemirror_mode": {
    "name": "ipython",
    "version": 3
   },
   "file_extension": ".py",
   "mimetype": "text/x-python",
   "name": "python",
   "nbconvert_exporter": "python",
   "pygments_lexer": "ipython3",
   "version": "3.9.5"
  },
  "orig_nbformat": 4
 },
 "nbformat": 4,
 "nbformat_minor": 2
}
