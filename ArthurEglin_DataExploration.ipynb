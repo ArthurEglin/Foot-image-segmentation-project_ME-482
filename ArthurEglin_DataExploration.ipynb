{
 "cells": [
  {
   "cell_type": "code",
   "execution_count": null,
   "metadata": {},
   "outputs": [],
   "source": [
    "import numpy as np\n",
    "import random\n",
    "\n",
    "# read the gif masks\n",
    "import imageio\n",
    "\n",
    "import matplotlib.pyplot as plt\n",
    "import pydicom as dicom\n",
    "import matplotlib.pylab as plb\n",
    "\n",
    "from PIL import Image\n",
    "\n",
    "import cv2\n",
    "\n",
    "import glob\n",
    "\n",
    "# install the library using this command: pip install git+https://github.com/tensorflow/docs\n",
    "import tensorflow_docs.vis.embed as embed"
   ]
  },
  {
   "cell_type": "code",
   "execution_count": null,
   "metadata": {},
   "outputs": [],
   "source": [
    "pixel_data = []\n",
    "paths = glob.glob(\"C:/Users/arthu/Downloads/data/NN_Pieds/Controles/pied_50/pied_50/pied_entier_50/*.dcm\")\n",
    "\n",
    "for path in paths:\n",
    "    dataset = dicom.dcmread(path)\n",
    "    pixel_data.append(dataset.pixel_array)"
   ]
  },
  {
   "cell_type": "code",
   "execution_count": null,
   "metadata": {},
   "outputs": [],
   "source": [
    "images = np.array(pixel_data) # (741, 512, 512)\n",
    "img = np.transpose(images, (1, 2, 0)) # (512, 512, 741)"
   ]
  },
  {
   "cell_type": "code",
   "execution_count": null,
   "metadata": {},
   "outputs": [],
   "source": [
    "pixel_data = []\n",
    "paths = glob.glob(\"C:/Users/arthu/Downloads/data/NN_Pieds/Controles/pied_50/pied_50/calcaneum/*.bmp\")\n",
    "\n",
    "for path in paths:\n",
    "    mask = Image.open(path)\n",
    "    pixel_data.append(np.array(mask))"
   ]
  },
  {
   "cell_type": "code",
   "execution_count": null,
   "metadata": {},
   "outputs": [],
   "source": [
    "masks = np.array(pixel_data) # (740, 512, 512)\n",
    "msks = np.transpose(masks, (1, 2, 0)) # (512, 512, 740)"
   ]
  },
  {
   "cell_type": "code",
   "execution_count": null,
   "metadata": {},
   "outputs": [],
   "source": [
    "temp = 0\n",
    "non_zero = []\n",
    "for mask in masks:\n",
    "    somme = mask.sum()\n",
    "    if somme > 0:\n",
    "        non_zero.append(mask)\n",
    "        \n",
    "    temp += somme\n",
    "\n",
    "print(temp)"
   ]
  },
  {
   "cell_type": "code",
   "execution_count": null,
   "metadata": {},
   "outputs": [],
   "source": [
    "non_zero_masks = np.array(non_zero)"
   ]
  },
  {
   "cell_type": "code",
   "execution_count": null,
   "metadata": {},
   "outputs": [],
   "source": [
    "non_zero_masks.shape"
   ]
  },
  {
   "cell_type": "code",
   "execution_count": null,
   "metadata": {},
   "outputs": [],
   "source": [
    "def sample_stack(stack, rows=6, cols=6, start_with=10, show_every=3):\n",
    "    fig,ax = plt.subplots(rows,cols,figsize=[20,22])\n",
    "    for i in range(rows*cols):\n",
    "        ind = start_with + i*show_every\n",
    "        ax[int(i/rows),int(i % rows)].set_title(f'slice {ind}')\n",
    "        ax[int(i/rows),int(i % rows)].imshow(stack[ind],cmap='gray')\n",
    "        ax[int(i/rows),int(i % rows)].axis('off')\n",
    "    plt.show()"
   ]
  },
  {
   "cell_type": "code",
   "execution_count": null,
   "metadata": {},
   "outputs": [],
   "source": [
    "sample_stack(images, rows=5, cols=5, start_with=0, show_every = 29)"
   ]
  },
  {
   "cell_type": "code",
   "execution_count": null,
   "metadata": {},
   "outputs": [],
   "source": [
    "sample_stack(non_zero_masks, rows=5, cols=5, start_with=0, show_every = 7)"
   ]
  },
  {
   "cell_type": "code",
   "execution_count": null,
   "metadata": {},
   "outputs": [],
   "source": [
    "data_number = '01'\n",
    "\n",
    "# create the gif\n",
    "\n",
    "# images\n",
    "#imageio.mimsave('./images_notebooks/gif/Foot_test_CTscan_{}.gif'.format(data_number), images, duration=0.1)\n",
    "\n",
    "# masks\n",
    "imageio.mimsave('./images_notebooks/gif/Foot_test_mask_annotated_{}.gif'.format(data_number), non_zero_masks, duration=0.1)"
   ]
  },
  {
   "cell_type": "code",
   "execution_count": null,
   "metadata": {},
   "outputs": [],
   "source": [
    "# plot the gif for the CT scans\n",
    "embed.embed_file('./images_notebooks/gif/Foot_test_CTscan_{}.gif'.format(data_number))"
   ]
  },
  {
   "cell_type": "code",
   "execution_count": null,
   "metadata": {},
   "outputs": [],
   "source": [
    "# plot the gif for the annotated masks\n",
    "embed.embed_file('./images_notebooks/gif/Foot_test_mask_annotated_{}.gif'.format(data_number))"
   ]
  },
  {
   "attachments": {},
   "cell_type": "markdown",
   "metadata": {},
   "source": [
    "convert image format"
   ]
  },
  {
   "cell_type": "code",
   "execution_count": null,
   "metadata": {},
   "outputs": [],
   "source": [
    "\n",
    "image_path = 'blablabla'\n",
    "image_format = '.jpg' # or '.png'\n",
    "image_path = image_path.replace('.dcm', image_format)\n",
    "\n",
    "cv2.imwrite(image_path, pixel_array_numpy)"
   ]
  },
  {
   "attachments": {},
   "cell_type": "markdown",
   "metadata": {},
   "source": [
    "# MANUAL SEGMENTING"
   ]
  },
  {
   "cell_type": "code",
   "execution_count": null,
   "metadata": {},
   "outputs": [],
   "source": [
    "from skimage.segmentation import clear_border\n",
    "from skimage import measure\n",
    "from skimage.measure import label, regionprops\n",
    "\n",
    "from scipy import ndimage as ndi\n",
    "from scipy.ndimage import measurements, center_of_mass, binary_dilation, zoom\n",
    "\n",
    "import plotly.graph_objects as go\n",
    "\n",
    "import os\n",
    "import imageio\n",
    "\n",
    "import nibabel as nib"
   ]
  },
  {
   "cell_type": "code",
   "execution_count": null,
   "metadata": {},
   "outputs": [],
   "source": [
    "plt.imshow(images[300], cmap='gray')\n",
    "plt.colorbar()\n",
    "plt.show()"
   ]
  },
  {
   "cell_type": "code",
   "execution_count": null,
   "metadata": {},
   "outputs": [],
   "source": [
    "mask = images < 250"
   ]
  },
  {
   "cell_type": "code",
   "execution_count": null,
   "metadata": {},
   "outputs": [],
   "source": [
    "mask = mask.astype(np.uint8)"
   ]
  },
  {
   "cell_type": "code",
   "execution_count": null,
   "metadata": {},
   "outputs": [],
   "source": [
    "plt.imshow(mask[300])\n",
    "plt.colorbar()\n",
    "plt.show()"
   ]
  },
  {
   "cell_type": "code",
   "execution_count": null,
   "metadata": {},
   "outputs": [],
   "source": [
    "b = cv2.getStructuringElement(cv2.MORPH_CROSS, ksize=(5,5))\n",
    "\n",
    "b"
   ]
  },
  {
   "cell_type": "code",
   "execution_count": null,
   "metadata": {},
   "outputs": [],
   "source": [
    "erosion_test = cv2.erode(mask[300], kernel=b, borderType=cv2.BORDER_REFLECT)"
   ]
  },
  {
   "cell_type": "code",
   "execution_count": null,
   "metadata": {},
   "outputs": [],
   "source": [
    "dilation_test = cv2.dilate(mask[300], kernel=b, borderType=cv2.BORDER_REFLECT)"
   ]
  },
  {
   "cell_type": "code",
   "execution_count": null,
   "metadata": {},
   "outputs": [],
   "source": [
    "plt.imshow(erosion_test)\n",
    "plt.colorbar()\n",
    "plt.show()"
   ]
  },
  {
   "cell_type": "code",
   "execution_count": null,
   "metadata": {},
   "outputs": [],
   "source": [
    "mask = np.vectorize(clear_border, signature='(n,m)->(n,m)')(mask)\n",
    "plt.imshow(mask[300])\n",
    "plt.colorbar()\n",
    "plt.show()"
   ]
  },
  {
   "cell_type": "code",
   "execution_count": null,
   "metadata": {},
   "outputs": [],
   "source": [
    "mask_labeled = np.vectorize(label, signature='(n,m)->(n,m)')(mask)\n",
    "plt.imshow(mask_labeled[300])\n",
    "plt.colorbar()\n",
    "plt.show()"
   ]
  },
  {
   "cell_type": "code",
   "execution_count": null,
   "metadata": {},
   "outputs": [],
   "source": [
    "mask = mask_labeled > 0"
   ]
  },
  {
   "cell_type": "code",
   "execution_count": null,
   "metadata": {},
   "outputs": [],
   "source": [
    "mask = np.vectorize(ndi.binary_fill_holes, signature='(n,m)->(n,m)')(mask)\n",
    "plt.imshow(mask[300])\n",
    "plt.colorbar()\n",
    "plt.show()"
   ]
  },
  {
   "cell_type": "code",
   "execution_count": null,
   "metadata": {},
   "outputs": [],
   "source": [
    "# create the gif\n",
    "interm = 1*mask # convert array of bool to array of int32\n",
    "imageio.mimsave('./images_notebooks/gif/Foot_test_mask_{}.gif'.format(data_number), interm, duration=0.1)"
   ]
  },
  {
   "cell_type": "code",
   "execution_count": null,
   "metadata": {},
   "outputs": [],
   "source": [
    "# plot the gif\n",
    "embed.embed_file('./images_notebooks/gif/Foot_test_mask_{}.gif'.format(data_number))"
   ]
  },
  {
   "cell_type": "code",
   "execution_count": null,
   "metadata": {},
   "outputs": [],
   "source": []
  }
 ],
 "metadata": {
  "kernelspec": {
   "display_name": "Python 3",
   "language": "python",
   "name": "python3"
  },
  "language_info": {
   "codemirror_mode": {
    "name": "ipython",
    "version": 3
   },
   "file_extension": ".py",
   "mimetype": "text/x-python",
   "name": "python",
   "nbconvert_exporter": "python",
   "pygments_lexer": "ipython3",
   "version": "3.9.5"
  },
  "orig_nbformat": 4
 },
 "nbformat": 4,
 "nbformat_minor": 2
}
