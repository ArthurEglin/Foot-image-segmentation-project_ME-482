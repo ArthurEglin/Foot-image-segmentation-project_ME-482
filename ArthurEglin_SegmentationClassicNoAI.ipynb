{
 "cells": [
  {
   "attachments": {},
   "cell_type": "markdown",
   "metadata": {},
   "source": [
    "# Classical Image Segmentation without AI "
   ]
  },
  {
   "attachments": {},
   "cell_type": "markdown",
   "metadata": {},
   "source": [
    "## Environment settings"
   ]
  },
  {
   "attachments": {},
   "cell_type": "markdown",
   "metadata": {},
   "source": [
    "### Libraries import"
   ]
  },
  {
   "cell_type": "code",
   "execution_count": null,
   "metadata": {},
   "outputs": [],
   "source": [
    "import numpy as np\n",
    "import matplotlib.pyplot as plt\n",
    "\n",
    "from skimage.segmentation import clear_border\n",
    "from skimage import measure\n",
    "from skimage.measure import label, regionprops\n",
    "\n",
    "from scipy import ndimage as ndi\n",
    "from scipy.ndimage import measurements, center_of_mass, binary_dilation, zoom\n",
    "\n",
    "import plotly.graph_objects as go\n",
    "\n",
    "import os\n",
    "import imageio\n",
    "\n",
    "import nibabel as nib\n",
    "from nibabel.testing import data_path\n",
    "\n",
    "from PIL import Image"
   ]
  },
  {
   "attachments": {},
   "cell_type": "markdown",
   "metadata": {},
   "source": [
    "### Choose the data file"
   ]
  },
  {
   "cell_type": "code",
   "execution_count": null,
   "metadata": {},
   "outputs": [],
   "source": [
    "data_number = '01'"
   ]
  },
  {
   "cell_type": "code",
   "execution_count": null,
   "metadata": {},
   "outputs": [],
   "source": [
    "data_file_name = 'classic_segmentation/coronacases_0{}.nii/coronacases_org_0{}.nii'.format(data_number, data_number)"
   ]
  },
  {
   "cell_type": "code",
   "execution_count": null,
   "metadata": {},
   "outputs": [],
   "source": [
    "data_file_name"
   ]
  },
  {
   "attachments": {},
   "cell_type": "markdown",
   "metadata": {},
   "source": [
    "### Data loading"
   ]
  },
  {
   "cell_type": "code",
   "execution_count": null,
   "metadata": {},
   "outputs": [],
   "source": [
    "img_nifti = nib.load(data_file_name)\n",
    "img = np.array(img_nifti.dataobj)"
   ]
  },
  {
   "attachments": {},
   "cell_type": "markdown",
   "metadata": {},
   "source": [
    "301 images of size 512x512:"
   ]
  },
  {
   "cell_type": "code",
   "execution_count": null,
   "metadata": {},
   "outputs": [],
   "source": [
    "img.shape"
   ]
  },
  {
   "attachments": {},
   "cell_type": "markdown",
   "metadata": {},
   "source": [
    "Plot the 170th image from the loaded dataset"
   ]
  },
  {
   "cell_type": "code",
   "execution_count": null,
   "metadata": {},
   "outputs": [],
   "source": [
    "plt.figure(figsize=(8,8))\n",
    "plt.pcolormesh(img[170], cmap='Greys_r')\n",
    "plt.colorbar()\n",
    "plt.show()"
   ]
  },
  {
   "attachments": {},
   "cell_type": "markdown",
   "metadata": {},
   "source": [
    "What do these units mean? The pixel values of this CT scan are expressed in Hounsfield Units:\n",
    "\n",
    "$\n",
    "HU(x,y) = 1000 \\cdot \\frac{\\mu (x,y) - \\mu_{water}}{\\mu_{water} - \\mu_{air}}\n",
    "$\n",
    "\n",
    "where $\\mu$ is the linear attenuation coefficient of the material. The linear attenuation coefficient is defined based on how the intensity of a photon beam decays as it passes a distance $x$ through a material $I = I_0 e^{-\\mu x}$. Note that $\\mu$ depends on the energy of the photon beam, and in a CT scan photons usually have energies $\\approx 100$ keV. Here are typical HU values:\n",
    "\n",
    "![](./images_notebooks/images/HU.png)"
   ]
  },
  {
   "cell_type": "code",
   "execution_count": null,
   "metadata": {},
   "outputs": [],
   "source": [
    "def sample_stack(stack, rows=6, cols=6, start_with=10, show_every=3):\n",
    "    fig,ax = plt.subplots(rows,cols,figsize=[20,22])\n",
    "    for i in range(rows*cols):\n",
    "        ind = start_with + i*show_every\n",
    "        ax[int(i/rows),int(i % rows)].set_title(f'slice {ind}')\n",
    "        ax[int(i/rows),int(i % rows)].imshow(stack[ind],cmap='gray')\n",
    "        ax[int(i/rows),int(i % rows)].axis('off')\n",
    "    plt.show()"
   ]
  },
  {
   "cell_type": "code",
   "execution_count": null,
   "metadata": {},
   "outputs": [],
   "source": [
    "sample_stack(img, rows=10, cols=10, start_with=0, show_every = 3)"
   ]
  },
  {
   "cell_type": "code",
   "execution_count": null,
   "metadata": {},
   "outputs": [],
   "source": [
    "# install the library using this command: pip install git+https://github.com/tensorflow/docs\n",
    "import tensorflow_docs.vis.embed as embed"
   ]
  },
  {
   "cell_type": "code",
   "execution_count": null,
   "metadata": {},
   "outputs": [],
   "source": [
    "# create the gif\n",
    "imageio.mimsave('./images_notebooks/gif/volumetric_view_CTscan_{}.gif'.format(data_number), img, duration=0.1)"
   ]
  },
  {
   "cell_type": "code",
   "execution_count": null,
   "metadata": {},
   "outputs": [],
   "source": [
    "# plot the gif\n",
    "embed.embed_file('./images_notebooks/gif/volumetric_view_CTscan_{}.gif'.format(data_number))"
   ]
  },
  {
   "attachments": {},
   "cell_type": "markdown",
   "metadata": {},
   "source": [
    "### Modify data\n",
    "\n",
    "The first thing to note is that air is signifcantly less HU than other substances in the body, so we apply a so-called \"threshhold\" mask. Lets use -320 HU as the lower limit:"
   ]
  },
  {
   "cell_type": "code",
   "execution_count": null,
   "metadata": {},
   "outputs": [],
   "source": [
    "mask = img < -320"
   ]
  },
  {
   "cell_type": "code",
   "execution_count": null,
   "metadata": {},
   "outputs": [],
   "source": [
    "mask.shape"
   ]
  },
  {
   "attachments": {},
   "cell_type": "markdown",
   "metadata": {},
   "source": [
    "Plot the mask of a sample image of the dataset:"
   ]
  },
  {
   "cell_type": "code",
   "execution_count": null,
   "metadata": {},
   "outputs": [],
   "source": [
    "plt.pcolormesh(mask[170])\n",
    "plt.colorbar()\n",
    "plt.show()"
   ]
  },
  {
   "attachments": {},
   "cell_type": "markdown",
   "metadata": {},
   "source": [
    "Next we can use the `clear_border` function to remove the outer border:"
   ]
  },
  {
   "cell_type": "code",
   "execution_count": null,
   "metadata": {},
   "outputs": [],
   "source": [
    "mask = np.vectorize(clear_border, signature='(n,m)->(n,m)')(mask)\n",
    "plt.pcolormesh(mask[170])\n",
    "plt.colorbar()\n",
    "plt.show()"
   ]
  },
  {
   "attachments": {},
   "cell_type": "markdown",
   "metadata": {},
   "source": [
    "Now we'll give each seperate volume a different integer value using the `label` function"
   ]
  },
  {
   "cell_type": "code",
   "execution_count": null,
   "metadata": {},
   "outputs": [],
   "source": [
    "mask_labeled = np.vectorize(label, signature='(n,m)->(n,m)')(mask)\n",
    "plt.pcolormesh(mask_labeled[170])\n",
    "plt.colorbar()\n",
    "plt.show()"
   ]
  },
  {
   "attachments": {},
   "cell_type": "markdown",
   "metadata": {},
   "source": [
    "Now for something a little non-intuitive. We want to keep the three largest areas for each slice of the image. Why would we want to do this if we only want to keep the two lungs?\n",
    "\n",
    "- In some slices one of the lungs could be larger than the table\n",
    "- In some slices one of the lungs could be smaller than the table\n",
    "\n",
    "If we only take the largest two slices, we might end up taking the table and one of the lungs. So for now lets take the top 3. The function below is designed to operate on a single slice of the 3D image:"
   ]
  },
  {
   "cell_type": "code",
   "execution_count": null,
   "metadata": {},
   "outputs": [],
   "source": [
    "slc = mask_labeled[170]\n",
    "rps = regionprops(slc)\n",
    "areas = [r.area for r in rps]\n",
    "areas"
   ]
  },
  {
   "cell_type": "code",
   "execution_count": null,
   "metadata": {},
   "outputs": [],
   "source": [
    "np.argsort(areas)[::-1]"
   ]
  },
  {
   "cell_type": "code",
   "execution_count": null,
   "metadata": {},
   "outputs": [],
   "source": [
    "slc = mask_labeled[170]\n",
    "rps = regionprops(slc)\n",
    "areas = [r.area for r in rps]\n",
    "idxs = np.argsort(areas)[::-1] # we want largest to smallest"
   ]
  },
  {
   "attachments": {},
   "cell_type": "markdown",
   "metadata": {},
   "source": [
    "Only consider the 3 largest areas (iterating through `idxs`). Add these areas to a new slice called `new_slc`:"
   ]
  },
  {
   "cell_type": "code",
   "execution_count": null,
   "metadata": {},
   "outputs": [],
   "source": [
    "new_slc = np.zeros_like(slc)\n",
    "for i in idxs[:3]:\n",
    "    new_slc[tuple(rps[i].coords.T)] = i+1\n",
    "\n",
    "plt.pcolormesh(new_slc)\n",
    "plt.colorbar()\n",
    "plt.show()"
   ]
  },
  {
   "attachments": {},
   "cell_type": "markdown",
   "metadata": {},
   "source": [
    "Now lets automate this for all slices in our 3D image:"
   ]
  },
  {
   "cell_type": "code",
   "execution_count": null,
   "metadata": {},
   "outputs": [],
   "source": [
    "def keep_top_3(slc):\n",
    "    new_slc = np.zeros_like(slc)\n",
    "    rps = regionprops(slc)\n",
    "    areas = [r.area for r in rps]\n",
    "    idxs = np.argsort(areas)[::-1]\n",
    "    for i in idxs[:3]:\n",
    "        new_slc[tuple(rps[i].coords.T)] = i+1\n",
    "    return new_slc\n",
    "\n",
    "mask_labeled = np.vectorize(keep_top_3, signature='(n,m)->(n,m)')(mask_labeled)\n",
    "\n",
    "plt.pcolormesh(mask_labeled[165])\n",
    "plt.colorbar()\n",
    "plt.show()"
   ]
  },
  {
   "cell_type": "markdown",
   "metadata": {},
   "source": [
    "Now lets fill in any small holes in the lungs:"
   ]
  },
  {
   "cell_type": "code",
   "execution_count": null,
   "metadata": {},
   "outputs": [],
   "source": [
    "mask = mask_labeled > 0\n",
    "mask.shape"
   ]
  },
  {
   "cell_type": "code",
   "execution_count": null,
   "metadata": {},
   "outputs": [],
   "source": [
    "mask = np.vectorize(ndi.binary_fill_holes, signature='(n,m)->(n,m)')(mask)\n",
    "plt.pcolormesh(mask[170])\n",
    "plt.colorbar()\n",
    "plt.show()"
   ]
  },
  {
   "attachments": {},
   "cell_type": "markdown",
   "metadata": {},
   "source": [
    "In some slices, the trachea is kind of annoying and we need to remove it:"
   ]
  },
  {
   "cell_type": "code",
   "execution_count": null,
   "metadata": {},
   "outputs": [],
   "source": [
    "plt.pcolormesh(mask[-50])\n",
    "plt.colorbar()\n",
    "plt.show()"
   ]
  },
  {
   "cell_type": "code",
   "execution_count": null,
   "metadata": {},
   "outputs": [],
   "source": [
    "mask[-50]"
   ]
  },
  {
   "cell_type": "code",
   "execution_count": null,
   "metadata": {},
   "outputs": [],
   "source": [
    "labels = label(mask[-50],connectivity=1,background=0)\n",
    "\n",
    "plt.pcolormesh(labels)\n",
    "plt.colorbar()\n",
    "plt.show()"
   ]
  },
  {
   "cell_type": "code",
   "execution_count": null,
   "metadata": {},
   "outputs": [],
   "source": [
    "rps = regionprops(labels)\n",
    "areas = np.array([r.area for r in rps])\n",
    "np.where(areas/512**2 < 0.0069)"
   ]
  },
  {
   "cell_type": "code",
   "execution_count": null,
   "metadata": {},
   "outputs": [],
   "source": [
    "def remove_trachea(slc, c=0.0069):\n",
    "    new_slc = slc.copy()\n",
    "    labels = label(slc,connectivity=1,background=0)\n",
    "    rps = regionprops(labels)\n",
    "    areas = np.array([r.area for r in rps])\n",
    "    idxs = np.where(areas/512**2 < c)[0]\n",
    "    for i in idxs:\n",
    "        new_slc[tuple(rps[i].coords.T)] = 0\n",
    "    return new_slc"
   ]
  },
  {
   "cell_type": "code",
   "execution_count": null,
   "metadata": {},
   "outputs": [],
   "source": [
    "mask = np.vectorize(remove_trachea, signature='(n,m)->(n,m)')(mask)"
   ]
  },
  {
   "attachments": {},
   "cell_type": "markdown",
   "metadata": {},
   "source": [
    "Now the trachea is removed in the slice we were considering:"
   ]
  },
  {
   "cell_type": "code",
   "execution_count": null,
   "metadata": {},
   "outputs": [],
   "source": [
    "plt.pcolormesh(mask[170])\n",
    "plt.colorbar()\n",
    "plt.show()"
   ]
  },
  {
   "cell_type": "code",
   "execution_count": null,
   "metadata": {},
   "outputs": [],
   "source": [
    "# create the gif\n",
    "interm = 1*mask # convert array of bool to array of int32\n",
    "imageio.mimsave('./images_notebooks/gif/volumetric_view_mask_{}.gif'.format(data_number), interm, duration=0.1)"
   ]
  },
  {
   "cell_type": "code",
   "execution_count": null,
   "metadata": {},
   "outputs": [],
   "source": [
    "# plot the gif\n",
    "embed.embed_file('./images_notebooks/gif/volumetric_view_mask_{}.gif'.format(data_number))"
   ]
  },
  {
   "attachments": {},
   "cell_type": "markdown",
   "metadata": {},
   "source": [
    "Finally, its time to remove the table. Note that the center of mass of the table is always lower than the two lungs. As such, we simply need to delete the volume with the lowest center of mass in $y$ to delete the table:"
   ]
  },
  {
   "cell_type": "code",
   "execution_count": null,
   "metadata": {},
   "outputs": [],
   "source": [
    "labels = label(mask[170], background=0)"
   ]
  },
  {
   "attachments": {},
   "cell_type": "markdown",
   "metadata": {},
   "source": [
    "Plot a slice of the labels with the masks:"
   ]
  },
  {
   "cell_type": "code",
   "execution_count": null,
   "metadata": {},
   "outputs": [],
   "source": [
    "plt.pcolormesh(labels)\n",
    "plt.colorbar()"
   ]
  },
  {
   "attachments": {},
   "cell_type": "markdown",
   "metadata": {},
   "source": [
    "Compute the center of masses in this slice:"
   ]
  },
  {
   "cell_type": "code",
   "execution_count": null,
   "metadata": {},
   "outputs": [],
   "source": [
    "center_of_mass(labels==3)[0]"
   ]
  },
  {
   "attachments": {},
   "cell_type": "markdown",
   "metadata": {},
   "source": [
    "Define a function to remove from the scan images the CT signature of the patient's lying table:"
   ]
  },
  {
   "cell_type": "code",
   "execution_count": null,
   "metadata": {},
   "outputs": [],
   "source": [
    "def delete_table(slc):\n",
    "    new_slc = slc.copy()\n",
    "    labels = label(slc, background=0)\n",
    "    idxs = np.unique(labels)[1:]\n",
    "    COM_ys = np.array([center_of_mass(labels==i)[0] for i in idxs])\n",
    "    for idx, COM_y in zip(idxs, COM_ys):\n",
    "        if (COM_y < 0.3*slc.shape[0]):\n",
    "            new_slc[labels==idx] = 0\n",
    "        elif (COM_y > 0.6*slc.shape[0]):\n",
    "            new_slc[labels==idx] = 0\n",
    "    return new_slc"
   ]
  },
  {
   "cell_type": "code",
   "execution_count": null,
   "metadata": {},
   "outputs": [],
   "source": [
    "mask_new = np.vectorize(delete_table, signature='(n,m)->(n,m)')(mask)"
   ]
  },
  {
   "cell_type": "code",
   "execution_count": null,
   "metadata": {},
   "outputs": [],
   "source": [
    "plt.pcolormesh(mask_new[167])"
   ]
  },
  {
   "attachments": {},
   "cell_type": "markdown",
   "metadata": {},
   "source": [
    "Finally, we can expand the area of the lungs a little bit by growing the border. For this, we can use the `binary_dilation` function:"
   ]
  },
  {
   "cell_type": "code",
   "execution_count": null,
   "metadata": {},
   "outputs": [],
   "source": [
    "mask_new = binary_dilation(mask_new, iterations=5)"
   ]
  },
  {
   "cell_type": "code",
   "execution_count": null,
   "metadata": {},
   "outputs": [],
   "source": [
    "plt.figure(figsize=(8,8))\n",
    "plt.pcolormesh(mask_new[170], cmap='brg')"
   ]
  },
  {
   "cell_type": "markdown",
   "metadata": {},
   "source": [
    "Lets plot the full 3D image in plotly and create an interactive plot:\n",
    "\n",
    "- First decrease the resolution a little bit:"
   ]
  },
  {
   "cell_type": "code",
   "execution_count": null,
   "metadata": {},
   "outputs": [],
   "source": [
    "im = zoom(1*(mask_new), (0.4,0.4,0.4))"
   ]
  },
  {
   "attachments": {},
   "cell_type": "markdown",
   "metadata": {},
   "source": [
    "- Get arrays of $x$, $y$, and $z$. In a CT scan, the difference between pixels in the $z$ direction is about 4 times bigger than in the $x$ and $y$ directions:"
   ]
  },
  {
   "cell_type": "code",
   "execution_count": null,
   "metadata": {},
   "outputs": [],
   "source": [
    "z, y, x = [np.arange(i) for i in im.shape]\n",
    "z *= 4"
   ]
  },
  {
   "attachments": {},
   "cell_type": "markdown",
   "metadata": {},
   "source": [
    "- Create a meshgrid:"
   ]
  },
  {
   "cell_type": "code",
   "execution_count": null,
   "metadata": {},
   "outputs": [],
   "source": [
    "X,Y,Z = np.meshgrid(x,y,z, indexing='ij')"
   ]
  },
  {
   "attachments": {},
   "cell_type": "markdown",
   "metadata": {},
   "source": [
    "- Create a 3D plotly plot"
   ]
  },
  {
   "cell_type": "code",
   "execution_count": null,
   "metadata": {},
   "outputs": [],
   "source": [
    "fig = go.Figure(data=go.Volume(\n",
    "    x=X.flatten(),\n",
    "    y=Y.flatten(),\n",
    "    z=Z.flatten(),\n",
    "    value=np.transpose(im,(1,2,0)).flatten(),\n",
    "    isomin=0.1,\n",
    "    opacity=0.1, # needs to be small to see through all surfaces\n",
    "    surface_count=17, # needs to be a large number for good volume rendering\n",
    "    ))\n",
    "fig.write_html(\"test.html\")"
   ]
  },
  {
   "cell_type": "code",
   "execution_count": null,
   "metadata": {},
   "outputs": [],
   "source": [
    "img_new = mask_new * img"
   ]
  },
  {
   "cell_type": "code",
   "execution_count": null,
   "metadata": {},
   "outputs": [],
   "source": [
    "plt.pcolormesh(img_new[170])"
   ]
  },
  {
   "cell_type": "code",
   "execution_count": null,
   "metadata": {},
   "outputs": [],
   "source": []
  }
 ],
 "metadata": {
  "kernelspec": {
   "display_name": "Python 3",
   "language": "python",
   "name": "python3"
  },
  "language_info": {
   "codemirror_mode": {
    "name": "ipython",
    "version": 3
   },
   "file_extension": ".py",
   "mimetype": "text/x-python",
   "name": "python",
   "nbconvert_exporter": "python",
   "pygments_lexer": "ipython3",
   "version": "3.9.5"
  },
  "orig_nbformat": 4
 },
 "nbformat": 4,
 "nbformat_minor": 2
}
